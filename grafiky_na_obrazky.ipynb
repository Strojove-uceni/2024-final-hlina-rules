{
  "nbformat": 4,
  "nbformat_minor": 0,
  "metadata": {
    "colab": {
      "provenance": [],
      "mount_file_id": "1FzT5-a_IFh89_y8D8gOGLMFGlcO1Xwb3",
      "authorship_tag": "ABX9TyN4vDW+Zod+nFB3hjqw+QYU",
      "include_colab_link": true
    },
    "kernelspec": {
      "name": "python3",
      "display_name": "Python 3"
    },
    "language_info": {
      "name": "python"
    }
  },
  "cells": [
    {
      "cell_type": "markdown",
      "metadata": {
        "id": "view-in-github",
        "colab_type": "text"
      },
      "source": [
        "<a href=\"https://colab.research.google.com/github/Strojove-uceni/2024-final-hlina-rules/blob/main/grafiky_na_obrazky.ipynb\" target=\"_parent\"><img src=\"https://colab.research.google.com/assets/colab-badge.svg\" alt=\"Open In Colab\"/></a>"
      ]
    },
    {
      "cell_type": "code",
      "execution_count": null,
      "metadata": {
        "colab": {
          "base_uri": "https://localhost:8080/"
        },
        "id": "i22x3L3aG3lY",
        "outputId": "cc4a82f1-92a0-4040-e057-53759235b482"
      },
      "outputs": [
        {
          "output_type": "stream",
          "name": "stdout",
          "text": [
            "Drive already mounted at /content/drive; to attempt to forcibly remount, call drive.mount(\"/content/drive\", force_remount=True).\n"
          ]
        }
      ],
      "source": [
        "from PIL import Image, ImageDraw\n",
        "import matplotlib.pyplot as plt\n",
        "import numpy as np\n",
        "import pandas as pd\n",
        "\n",
        "from google.colab import drive\n",
        "drive.mount('/content/drive')\n",
        "\n",
        "def add_bar_chart_to_image(image_path, parameters, coords, output_path):\n",
        "    \"\"\"\n",
        "    Adds a bar chart to an image at specified coordinates.\n",
        "\n",
        "    Args:\n",
        "        image_path (str): Path to the input image.\n",
        "        parameters (list): List of four numerical parameters (values 1 to 3).\n",
        "        coords (tuple): Coordinates (x, y) to place the bar chart.\n",
        "        output_path (str): Path to save the output image.\n",
        "    \"\"\"\n",
        "    # Step 1: Load the image\n",
        "    image = Image.open(image_path)\n",
        "    # color mapping\n",
        "    colors = ['green' if val == 2 else 'red' for val in parameters]\n",
        "    # Step 2: Create the bar chart\n",
        "    plt.figure(figsize=(4, 4), dpi=100)  # Adjust size and resolution of the chart\n",
        "    plt.bar(range(1, 5), parameters, color=colors, width=0.5)\n",
        "    plt.ylim(0, 3)  # Ensure consistent scaling\n",
        "    plt.xticks(range(1, 5), ['flow_rate', 'feed_rate', 'z_offset', 'hotend'])  # Label parameters\n",
        "    plt.yticks([1, 2, 3],['too low', 'good', 'too high'])\n",
        "    plt.grid(axis='y', linestyle='--', alpha=0.7)\n",
        "    plt.box(False)\n",
        "    plt.tight_layout()\n",
        "\n",
        "    # Save the chart as an image with transparent background\n",
        "    chart_path = \"temp_chart.png\"\n",
        "    plt.savefig(chart_path, format='png', transparent=False)\n",
        "    plt.close()\n",
        "\n",
        "    # Step 3: Overlay the bar chart onto the image\n",
        "    chart = Image.open(chart_path).convert(\"RGBA\")\n",
        "    image.paste(chart, coords, chart)\n",
        "\n",
        "    # Step 4: Save the modified image\n",
        "    image.save(output_path)\n",
        "    print(f\"Image saved with chart at {output_path}\")\n",
        "\n"
      ]
    },
    {
      "cell_type": "code",
      "source": [
        "# Example usage\n",
        "parameters = [2, 1, 3, 2]\n",
        "image_path = \"drive/My Drive/SU2/image-6.jpg\"\n",
        "output_path = f\"drive/My Drive/SU2/modified_image-6.jpg\"\n",
        "coords = (800, 1)  # Place the chart at x=800, y=1\n",
        "add_bar_chart_to_image(image_path, parameters, coords, output_path)"
      ],
      "metadata": {
        "colab": {
          "base_uri": "https://localhost:8080/",
          "height": 321
        },
        "id": "nWiMQaP7JYuw",
        "outputId": "04b1bfa2-464c-41cc-d65d-8aac3ad30252"
      },
      "execution_count": null,
      "outputs": [
        {
          "output_type": "error",
          "ename": "FileNotFoundError",
          "evalue": "[Errno 2] No such file or directory: '/content/drive/My Drive/SU2/image-6.jpg'",
          "traceback": [
            "\u001b[0;31m---------------------------------------------------------------------------\u001b[0m",
            "\u001b[0;31mFileNotFoundError\u001b[0m                         Traceback (most recent call last)",
            "\u001b[0;32m<ipython-input-49-fb1ef71dfd5e>\u001b[0m in \u001b[0;36m<cell line: 6>\u001b[0;34m()\u001b[0m\n\u001b[1;32m      4\u001b[0m \u001b[0moutput_path\u001b[0m \u001b[0;34m=\u001b[0m \u001b[0;34mf\"drive/My Drive/SU2/modified_image-6.jpg\"\u001b[0m\u001b[0;34m\u001b[0m\u001b[0;34m\u001b[0m\u001b[0m\n\u001b[1;32m      5\u001b[0m \u001b[0mcoords\u001b[0m \u001b[0;34m=\u001b[0m \u001b[0;34m(\u001b[0m\u001b[0;36m800\u001b[0m\u001b[0;34m,\u001b[0m \u001b[0;36m1\u001b[0m\u001b[0;34m)\u001b[0m  \u001b[0;31m# Place the chart at x=800, y=1\u001b[0m\u001b[0;34m\u001b[0m\u001b[0;34m\u001b[0m\u001b[0m\n\u001b[0;32m----> 6\u001b[0;31m \u001b[0madd_bar_chart_to_image\u001b[0m\u001b[0;34m(\u001b[0m\u001b[0mimage_path\u001b[0m\u001b[0;34m,\u001b[0m \u001b[0mparameters\u001b[0m\u001b[0;34m,\u001b[0m \u001b[0mcoords\u001b[0m\u001b[0;34m,\u001b[0m \u001b[0moutput_path\u001b[0m\u001b[0;34m)\u001b[0m\u001b[0;34m\u001b[0m\u001b[0;34m\u001b[0m\u001b[0m\n\u001b[0m",
            "\u001b[0;32m<ipython-input-48-f07fcf1544f6>\u001b[0m in \u001b[0;36madd_bar_chart_to_image\u001b[0;34m(image_path, parameters, coords, output_path)\u001b[0m\n\u001b[1;32m     18\u001b[0m     \"\"\"\n\u001b[1;32m     19\u001b[0m     \u001b[0;31m# Step 1: Load the image\u001b[0m\u001b[0;34m\u001b[0m\u001b[0;34m\u001b[0m\u001b[0m\n\u001b[0;32m---> 20\u001b[0;31m     \u001b[0mimage\u001b[0m \u001b[0;34m=\u001b[0m \u001b[0mImage\u001b[0m\u001b[0;34m.\u001b[0m\u001b[0mopen\u001b[0m\u001b[0;34m(\u001b[0m\u001b[0mimage_path\u001b[0m\u001b[0;34m)\u001b[0m\u001b[0;34m\u001b[0m\u001b[0;34m\u001b[0m\u001b[0m\n\u001b[0m\u001b[1;32m     21\u001b[0m     \u001b[0;31m# color mapping\u001b[0m\u001b[0;34m\u001b[0m\u001b[0;34m\u001b[0m\u001b[0m\n\u001b[1;32m     22\u001b[0m     \u001b[0mcolors\u001b[0m \u001b[0;34m=\u001b[0m \u001b[0;34m[\u001b[0m\u001b[0;34m'green'\u001b[0m \u001b[0;32mif\u001b[0m \u001b[0mval\u001b[0m \u001b[0;34m==\u001b[0m \u001b[0;36m2\u001b[0m \u001b[0;32melse\u001b[0m \u001b[0;34m'red'\u001b[0m \u001b[0;32mfor\u001b[0m \u001b[0mval\u001b[0m \u001b[0;32min\u001b[0m \u001b[0mparameters\u001b[0m\u001b[0;34m]\u001b[0m\u001b[0;34m\u001b[0m\u001b[0;34m\u001b[0m\u001b[0m\n",
            "\u001b[0;32m/usr/local/lib/python3.10/dist-packages/PIL/Image.py\u001b[0m in \u001b[0;36mopen\u001b[0;34m(fp, mode, formats)\u001b[0m\n\u001b[1;32m   3467\u001b[0m \u001b[0;34m\u001b[0m\u001b[0m\n\u001b[1;32m   3468\u001b[0m     \u001b[0;32mif\u001b[0m \u001b[0mfilename\u001b[0m\u001b[0;34m:\u001b[0m\u001b[0;34m\u001b[0m\u001b[0;34m\u001b[0m\u001b[0m\n\u001b[0;32m-> 3469\u001b[0;31m         \u001b[0mfp\u001b[0m \u001b[0;34m=\u001b[0m \u001b[0mbuiltins\u001b[0m\u001b[0;34m.\u001b[0m\u001b[0mopen\u001b[0m\u001b[0;34m(\u001b[0m\u001b[0mfilename\u001b[0m\u001b[0;34m,\u001b[0m \u001b[0;34m\"rb\"\u001b[0m\u001b[0;34m)\u001b[0m\u001b[0;34m\u001b[0m\u001b[0;34m\u001b[0m\u001b[0m\n\u001b[0m\u001b[1;32m   3470\u001b[0m         \u001b[0mexclusive_fp\u001b[0m \u001b[0;34m=\u001b[0m \u001b[0;32mTrue\u001b[0m\u001b[0;34m\u001b[0m\u001b[0;34m\u001b[0m\u001b[0m\n\u001b[1;32m   3471\u001b[0m     \u001b[0;32melse\u001b[0m\u001b[0;34m:\u001b[0m\u001b[0;34m\u001b[0m\u001b[0;34m\u001b[0m\u001b[0m\n",
            "\u001b[0;31mFileNotFoundError\u001b[0m: [Errno 2] No such file or directory: '/content/drive/My Drive/SU2/image-6.jpg'"
          ]
        }
      ]
    },
    {
      "cell_type": "code",
      "source": [
        "starting_dataset = pd.read_csv('drive/My Drive/SU2/caxton_dataset_filtered_no_outliers_img_info.csv')\n",
        "\n",
        "coordinates_df = starting_dataset[['nozzle_tip_x','nozzle_tip_y']].iloc[985:1000]\n",
        "\n",
        "nozzle_coordinates_list = [tuple(row) for row in coordinates_df.values]\n",
        "\n",
        "variable_classes_df = starting_dataset[['flow_rate_class','feed_rate_class','z_offset_class','hotend_class']].iloc[985:1000]\n",
        "\n",
        "variable_classes_list = [tuple(row) for row in variable_classes_df.values]\n",
        "\n",
        "from pathlib import Path\n",
        "\n",
        "def load_image_paths(directory, extensions=('.jpg', '.jpeg', '.png', '.bmp', '.tiff')):\n",
        "    \"\"\"\n",
        "    Load all image file paths using pathlib.\n",
        "\n",
        "    Parameters:\n",
        "        directory (str): Path to the directory containing images.\n",
        "        extensions (tuple): Tuple of file extensions to consider as images.\n",
        "\n",
        "    Returns:\n",
        "        list: List of image file paths.\n",
        "    \"\"\"\n",
        "    directory = Path(directory)\n",
        "    if not directory.is_dir():\n",
        "        raise ValueError(f\"Directory does not exist: {directory}\")\n",
        "\n",
        "    image_paths = [str(file) for file in directory.rglob('*') if file.suffix.lower() in extensions]\n",
        "    return image_paths\n",
        "\n",
        "directory_path = \"drive/My Drive/SU2\"\n",
        "image_list = sorted(load_image_paths(directory_path))\n",
        "\n",
        "output_list = []\n",
        "\n",
        "for i in range(len(image_list)):\n",
        "  output_list.append(f\"drive/My Drive/SU2/modified_image-{i+1}.jpg\")\n"
      ],
      "metadata": {
        "id": "yx22yfxi-6jc"
      },
      "execution_count": null,
      "outputs": []
    },
    {
      "cell_type": "code",
      "source": [
        "for rizzle_coordinate, variable_classes, image_path, output_path in zip(nozzle_coordinates_list, variable_classes_list, image_list, output_list):\n",
        "  add_bar_chart_to_image(image_path, [variable_classes[0]+1,variable_classes[1]+1,variable_classes[2]+1,variable_classes[3]+1], [rizzle_coordinate[0]+300,rizzle_coordinate[1]-500], output_path)"
      ],
      "metadata": {
        "colab": {
          "base_uri": "https://localhost:8080/"
        },
        "id": "a-l4mUqEOzVB",
        "outputId": "8e3b5dee-39e0-40c1-a5ed-293ec3327f04"
      },
      "execution_count": null,
      "outputs": [
        {
          "output_type": "stream",
          "name": "stdout",
          "text": [
            "Image saved with chart at drive/My Drive/SU2/modified_image-1.jpg\n",
            "Image saved with chart at drive/My Drive/SU2/modified_image-2.jpg\n",
            "Image saved with chart at drive/My Drive/SU2/modified_image-3.jpg\n",
            "Image saved with chart at drive/My Drive/SU2/modified_image-4.jpg\n",
            "Image saved with chart at drive/My Drive/SU2/modified_image-5.jpg\n",
            "Image saved with chart at drive/My Drive/SU2/modified_image-6.jpg\n",
            "Image saved with chart at drive/My Drive/SU2/modified_image-7.jpg\n",
            "Image saved with chart at drive/My Drive/SU2/modified_image-8.jpg\n",
            "Image saved with chart at drive/My Drive/SU2/modified_image-9.jpg\n",
            "Image saved with chart at drive/My Drive/SU2/modified_image-10.jpg\n",
            "Image saved with chart at drive/My Drive/SU2/modified_image-11.jpg\n",
            "Image saved with chart at drive/My Drive/SU2/modified_image-12.jpg\n",
            "Image saved with chart at drive/My Drive/SU2/modified_image-13.jpg\n",
            "Image saved with chart at drive/My Drive/SU2/modified_image-14.jpg\n",
            "Image saved with chart at drive/My Drive/SU2/modified_image-15.jpg\n"
          ]
        }
      ]
    }
  ]
}